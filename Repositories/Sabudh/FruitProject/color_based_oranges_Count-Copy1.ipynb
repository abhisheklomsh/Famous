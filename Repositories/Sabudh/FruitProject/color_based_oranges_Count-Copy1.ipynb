{
 "cells": [
  {
   "cell_type": "code",
   "execution_count": 14,
   "metadata": {},
   "outputs": [],
   "source": [
    "import cv2\n",
    "import numpy as np\n",
    "import glob\n",
    "import matplotlib.pyplot as plt\n",
    "import imageio\n",
    "%matplotlib inline\n",
    "from PIL import Image\n",
    "import pandas as pd\n"
   ]
  },
  {
   "cell_type": "code",
   "execution_count": 15,
   "metadata": {},
   "outputs": [],
   "source": [
    "list=(glob.glob(\"*.jpg\"))\n",
    "counter=0\n",
    "\n",
    "    \n",
    "    "
   ]
  },
  {
   "cell_type": "code",
   "execution_count": 16,
   "metadata": {},
   "outputs": [],
   "source": [
    "array = np.asarray(list[0])"
   ]
  },
  {
   "cell_type": "code",
   "execution_count": 17,
   "metadata": {},
   "outputs": [],
   "source": [
    "from skimage import io\n"
   ]
  },
  {
   "cell_type": "code",
   "execution_count": 29,
   "metadata": {},
   "outputs": [],
   "source": [
    "#img = imageio.imread(list[0])\n",
    "\"\"\"im = Image.open(list[0])\n",
    "\n",
    "np_im = np.array(im)\n",
    "print(np_im.shape)\n",
    "\n",
    "np.histogram(np_im)\"\"\"\n",
    "np_im = io.imread(\"2_h_ab83b7bea8ab56a16cf0b370f8a86773.jpg\", as_gray=True)"
   ]
  },
  {
   "cell_type": "code",
   "execution_count": 30,
   "metadata": {},
   "outputs": [
    {
     "data": {
      "text/plain": [
       "'905large.jpgwithcount30.jpg'"
      ]
     },
     "execution_count": 30,
     "metadata": {},
     "output_type": "execute_result"
    }
   ],
   "source": [
    "list[0]"
   ]
  },
  {
   "cell_type": "code",
   "execution_count": 31,
   "metadata": {},
   "outputs": [
    {
     "name": "stdout",
     "output_type": "stream",
     "text": [
      "(355, 474)\n"
     ]
    }
   ],
   "source": [
    "np_im.tolist()\n",
    "print(np_im.shape)"
   ]
  },
  {
   "cell_type": "code",
   "execution_count": 32,
   "metadata": {
    "scrolled": true
   },
   "outputs": [],
   "source": [
    "#a=np.histogram(img, bins=10, range=None, normed=None, weights=None, density=None)"
   ]
  },
  {
   "cell_type": "code",
   "execution_count": 33,
   "metadata": {},
   "outputs": [
    {
     "data": {
      "text/plain": [
       "'m=cv2.imread(list[0])\\ntarget=io.imread(m, as_grey=True)\\nimg_HSV = cv2.cvtColor(target, cv2.COLOR_BGR2HSV)\\n#skin color range for hsv color space \\n#HSV_mask = cv2.inRange(img_HSV, (0, 80, 20), (25, 255, 255))\\nHSV_mask = cv2.inRange(img_HSV, (23, 59, 90), (34, 100, 100))\\ntarget = cv2.bitwise_and(m,m, mask=HSV_mask)'"
      ]
     },
     "execution_count": 33,
     "metadata": {},
     "output_type": "execute_result"
    }
   ],
   "source": [
    "\"\"\"m=cv2.imread(list[0])\n",
    "target=io.imread(m, as_grey=True)\n",
    "img_HSV = cv2.cvtColor(target, cv2.COLOR_BGR2HSV)\n",
    "#skin color range for hsv color space \n",
    "#HSV_mask = cv2.inRange(img_HSV, (0, 80, 20), (25, 255, 255))\n",
    "HSV_mask = cv2.inRange(img_HSV, (23, 59, 90), (34, 100, 100))\n",
    "target = cv2.bitwise_and(m,m, mask=HSV_mask)\"\"\""
   ]
  },
  {
   "cell_type": "code",
   "execution_count": 34,
   "metadata": {},
   "outputs": [
    {
     "name": "stdout",
     "output_type": "stream",
     "text": [
      "(355, 474)\n"
     ]
    }
   ],
   "source": [
    "np_im.tolist()\n",
    "print(np_im.shape)\n"
   ]
  },
  {
   "cell_type": "code",
   "execution_count": 35,
   "metadata": {},
   "outputs": [],
   "source": [
    "data = []\n",
    "for i in range(355):\n",
    "    for j in range(474):\n",
    "        data.append(np_im[i][j])\n",
    "\n",
    "\n"
   ]
  },
  {
   "cell_type": "code",
   "execution_count": 36,
   "metadata": {},
   "outputs": [],
   "source": [
    "data = pd.DataFrame(data)"
   ]
  },
  {
   "cell_type": "code",
   "execution_count": 37,
   "metadata": {},
   "outputs": [
    {
     "data": {
      "text/html": [
       "<div>\n",
       "<style scoped>\n",
       "    .dataframe tbody tr th:only-of-type {\n",
       "        vertical-align: middle;\n",
       "    }\n",
       "\n",
       "    .dataframe tbody tr th {\n",
       "        vertical-align: top;\n",
       "    }\n",
       "\n",
       "    .dataframe thead th {\n",
       "        text-align: right;\n",
       "    }\n",
       "</style>\n",
       "<table border=\"1\" class=\"dataframe\">\n",
       "  <thead>\n",
       "    <tr style=\"text-align: right;\">\n",
       "      <th></th>\n",
       "      <th>0</th>\n",
       "    </tr>\n",
       "  </thead>\n",
       "  <tbody>\n",
       "    <tr>\n",
       "      <th>0</th>\n",
       "      <td>0.537578</td>\n",
       "    </tr>\n",
       "    <tr>\n",
       "      <th>1</th>\n",
       "      <td>0.486850</td>\n",
       "    </tr>\n",
       "    <tr>\n",
       "      <th>2</th>\n",
       "      <td>0.492699</td>\n",
       "    </tr>\n",
       "    <tr>\n",
       "      <th>3</th>\n",
       "      <td>0.523744</td>\n",
       "    </tr>\n",
       "    <tr>\n",
       "      <th>4</th>\n",
       "      <td>0.420623</td>\n",
       "    </tr>\n",
       "    <tr>\n",
       "      <th>5</th>\n",
       "      <td>0.524503</td>\n",
       "    </tr>\n",
       "    <tr>\n",
       "      <th>6</th>\n",
       "      <td>0.641562</td>\n",
       "    </tr>\n",
       "    <tr>\n",
       "      <th>7</th>\n",
       "      <td>0.577693</td>\n",
       "    </tr>\n",
       "    <tr>\n",
       "      <th>8</th>\n",
       "      <td>0.640713</td>\n",
       "    </tr>\n",
       "    <tr>\n",
       "      <th>9</th>\n",
       "      <td>0.574061</td>\n",
       "    </tr>\n",
       "    <tr>\n",
       "      <th>10</th>\n",
       "      <td>0.538767</td>\n",
       "    </tr>\n",
       "    <tr>\n",
       "      <th>11</th>\n",
       "      <td>0.508541</td>\n",
       "    </tr>\n",
       "    <tr>\n",
       "      <th>12</th>\n",
       "      <td>0.551954</td>\n",
       "    </tr>\n",
       "    <tr>\n",
       "      <th>13</th>\n",
       "      <td>0.593135</td>\n",
       "    </tr>\n",
       "    <tr>\n",
       "      <th>14</th>\n",
       "      <td>0.629278</td>\n",
       "    </tr>\n",
       "    <tr>\n",
       "      <th>15</th>\n",
       "      <td>0.603219</td>\n",
       "    </tr>\n",
       "    <tr>\n",
       "      <th>16</th>\n",
       "      <td>0.385014</td>\n",
       "    </tr>\n",
       "    <tr>\n",
       "      <th>17</th>\n",
       "      <td>0.239916</td>\n",
       "    </tr>\n",
       "    <tr>\n",
       "      <th>18</th>\n",
       "      <td>0.240481</td>\n",
       "    </tr>\n",
       "    <tr>\n",
       "      <th>19</th>\n",
       "      <td>0.328155</td>\n",
       "    </tr>\n",
       "    <tr>\n",
       "      <th>20</th>\n",
       "      <td>0.352815</td>\n",
       "    </tr>\n",
       "    <tr>\n",
       "      <th>21</th>\n",
       "      <td>0.205477</td>\n",
       "    </tr>\n",
       "    <tr>\n",
       "      <th>22</th>\n",
       "      <td>0.155345</td>\n",
       "    </tr>\n",
       "    <tr>\n",
       "      <th>23</th>\n",
       "      <td>0.168791</td>\n",
       "    </tr>\n",
       "    <tr>\n",
       "      <th>24</th>\n",
       "      <td>0.161513</td>\n",
       "    </tr>\n",
       "    <tr>\n",
       "      <th>25</th>\n",
       "      <td>0.240510</td>\n",
       "    </tr>\n",
       "    <tr>\n",
       "      <th>26</th>\n",
       "      <td>0.173844</td>\n",
       "    </tr>\n",
       "    <tr>\n",
       "      <th>27</th>\n",
       "      <td>0.177765</td>\n",
       "    </tr>\n",
       "    <tr>\n",
       "      <th>28</th>\n",
       "      <td>0.154236</td>\n",
       "    </tr>\n",
       "    <tr>\n",
       "      <th>29</th>\n",
       "      <td>0.126785</td>\n",
       "    </tr>\n",
       "    <tr>\n",
       "      <th>...</th>\n",
       "      <td>...</td>\n",
       "    </tr>\n",
       "    <tr>\n",
       "      <th>168240</th>\n",
       "      <td>0.470359</td>\n",
       "    </tr>\n",
       "    <tr>\n",
       "      <th>168241</th>\n",
       "      <td>0.519375</td>\n",
       "    </tr>\n",
       "    <tr>\n",
       "      <th>168242</th>\n",
       "      <td>0.541774</td>\n",
       "    </tr>\n",
       "    <tr>\n",
       "      <th>168243</th>\n",
       "      <td>0.543448</td>\n",
       "    </tr>\n",
       "    <tr>\n",
       "      <th>168244</th>\n",
       "      <td>0.523587</td>\n",
       "    </tr>\n",
       "    <tr>\n",
       "      <th>168245</th>\n",
       "      <td>0.449360</td>\n",
       "    </tr>\n",
       "    <tr>\n",
       "      <th>168246</th>\n",
       "      <td>0.515453</td>\n",
       "    </tr>\n",
       "    <tr>\n",
       "      <th>168247</th>\n",
       "      <td>0.512097</td>\n",
       "    </tr>\n",
       "    <tr>\n",
       "      <th>168248</th>\n",
       "      <td>0.371195</td>\n",
       "    </tr>\n",
       "    <tr>\n",
       "      <th>168249</th>\n",
       "      <td>0.318525</td>\n",
       "    </tr>\n",
       "    <tr>\n",
       "      <th>168250</th>\n",
       "      <td>0.330856</td>\n",
       "    </tr>\n",
       "    <tr>\n",
       "      <th>168251</th>\n",
       "      <td>0.318518</td>\n",
       "    </tr>\n",
       "    <tr>\n",
       "      <th>168252</th>\n",
       "      <td>0.381263</td>\n",
       "    </tr>\n",
       "    <tr>\n",
       "      <th>168253</th>\n",
       "      <td>0.472032</td>\n",
       "    </tr>\n",
       "    <tr>\n",
       "      <th>168254</th>\n",
       "      <td>0.494996</td>\n",
       "    </tr>\n",
       "    <tr>\n",
       "      <th>168255</th>\n",
       "      <td>0.484921</td>\n",
       "    </tr>\n",
       "    <tr>\n",
       "      <th>168256</th>\n",
       "      <td>0.488567</td>\n",
       "    </tr>\n",
       "    <tr>\n",
       "      <th>168257</th>\n",
       "      <td>0.507610</td>\n",
       "    </tr>\n",
       "    <tr>\n",
       "      <th>168258</th>\n",
       "      <td>0.488575</td>\n",
       "    </tr>\n",
       "    <tr>\n",
       "      <th>168259</th>\n",
       "      <td>0.398096</td>\n",
       "    </tr>\n",
       "    <tr>\n",
       "      <th>168260</th>\n",
       "      <td>0.435393</td>\n",
       "    </tr>\n",
       "    <tr>\n",
       "      <th>168261</th>\n",
       "      <td>0.437908</td>\n",
       "    </tr>\n",
       "    <tr>\n",
       "      <th>168262</th>\n",
       "      <td>0.487482</td>\n",
       "    </tr>\n",
       "    <tr>\n",
       "      <th>168263</th>\n",
       "      <td>0.435645</td>\n",
       "    </tr>\n",
       "    <tr>\n",
       "      <th>168264</th>\n",
       "      <td>0.414631</td>\n",
       "    </tr>\n",
       "    <tr>\n",
       "      <th>168265</th>\n",
       "      <td>0.459710</td>\n",
       "    </tr>\n",
       "    <tr>\n",
       "      <th>168266</th>\n",
       "      <td>0.436173</td>\n",
       "    </tr>\n",
       "    <tr>\n",
       "      <th>168267</th>\n",
       "      <td>0.431678</td>\n",
       "    </tr>\n",
       "    <tr>\n",
       "      <th>168268</th>\n",
       "      <td>0.500859</td>\n",
       "    </tr>\n",
       "    <tr>\n",
       "      <th>168269</th>\n",
       "      <td>0.575935</td>\n",
       "    </tr>\n",
       "  </tbody>\n",
       "</table>\n",
       "<p>168270 rows × 1 columns</p>\n",
       "</div>"
      ],
      "text/plain": [
       "               0\n",
       "0       0.537578\n",
       "1       0.486850\n",
       "2       0.492699\n",
       "3       0.523744\n",
       "4       0.420623\n",
       "5       0.524503\n",
       "6       0.641562\n",
       "7       0.577693\n",
       "8       0.640713\n",
       "9       0.574061\n",
       "10      0.538767\n",
       "11      0.508541\n",
       "12      0.551954\n",
       "13      0.593135\n",
       "14      0.629278\n",
       "15      0.603219\n",
       "16      0.385014\n",
       "17      0.239916\n",
       "18      0.240481\n",
       "19      0.328155\n",
       "20      0.352815\n",
       "21      0.205477\n",
       "22      0.155345\n",
       "23      0.168791\n",
       "24      0.161513\n",
       "25      0.240510\n",
       "26      0.173844\n",
       "27      0.177765\n",
       "28      0.154236\n",
       "29      0.126785\n",
       "...          ...\n",
       "168240  0.470359\n",
       "168241  0.519375\n",
       "168242  0.541774\n",
       "168243  0.543448\n",
       "168244  0.523587\n",
       "168245  0.449360\n",
       "168246  0.515453\n",
       "168247  0.512097\n",
       "168248  0.371195\n",
       "168249  0.318525\n",
       "168250  0.330856\n",
       "168251  0.318518\n",
       "168252  0.381263\n",
       "168253  0.472032\n",
       "168254  0.494996\n",
       "168255  0.484921\n",
       "168256  0.488567\n",
       "168257  0.507610\n",
       "168258  0.488575\n",
       "168259  0.398096\n",
       "168260  0.435393\n",
       "168261  0.437908\n",
       "168262  0.487482\n",
       "168263  0.435645\n",
       "168264  0.414631\n",
       "168265  0.459710\n",
       "168266  0.436173\n",
       "168267  0.431678\n",
       "168268  0.500859\n",
       "168269  0.575935\n",
       "\n",
       "[168270 rows x 1 columns]"
      ]
     },
     "execution_count": 37,
     "metadata": {},
     "output_type": "execute_result"
    }
   ],
   "source": [
    "data"
   ]
  },
  {
   "cell_type": "code",
   "execution_count": 38,
   "metadata": {
    "scrolled": true
   },
   "outputs": [
    {
     "data": {
      "image/png": "[encoded data removed]",
      "text/plain": [
       "<Figure size 432x288 with 1 Axes>"
      ]
     },
     "metadata": {
      "needs_background": "light"
     },
     "output_type": "display_data"
    }
   ],
   "source": [
    "\"\"\"plt.bar(data)\n",
    "#plt.hist(data,bins=100)\n",
    "plt.title(\"Histogram with 'auto' bins\")\n",
    "plt.show()\"\"\"\n",
    "plt.bar(data.index,data[0])\n",
    "plt.show()"
   ]
  },
  {
   "cell_type": "code",
   "execution_count": null,
   "metadata": {},
   "outputs": [],
   "source": []
  },
  {
   "cell_type": "code",
   "execution_count": null,
   "metadata": {},
   "outputs": [],
   "source": []
  },
  {
   "cell_type": "code",
   "execution_count": null,
   "metadata": {},
   "outputs": [],
   "source": []
  },
  {
   "cell_type": "code",
   "execution_count": null,
   "metadata": {},
   "outputs": [],
   "source": []
  },
  {
   "cell_type": "code",
   "execution_count": null,
   "metadata": {},
   "outputs": [],
   "source": []
  }
 ],
 "metadata": {
  "kernelspec": {
   "display_name": "Python 3",
   "language": "python",
   "name": "python3"
  },
  "language_info": {
   "codemirror_mode": {
    "name": "ipython",
    "version": 3
   },
   "file_extension": ".py",
   "mimetype": "text/x-python",
   "name": "python",
   "nbconvert_exporter": "python",
   "pygments_lexer": "ipython3",
   "version": "3.7.1"
  }
 },
 "nbformat": 4,
 "nbformat_minor": 2
}
